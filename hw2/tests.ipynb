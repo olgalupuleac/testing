{
 "cells": [
  {
   "cell_type": "code",
   "execution_count": null,
   "metadata": {
    "collapsed": true
   },
   "outputs": [],
   "source": [
    "P1 = ['A', 'B', 'C', 'D', 'E']\n",
    "P2 = ['F', 'G', 'H']\n",
    "P3 = ['K', 'L', 'M']\n",
    "P4 = ['N', 'O']\n",
    "\n",
    "table = []\n",
    "for p1 in P1:\n",
    "    for p2 in P2:\n",
    "        for p3 in P3:\n",
    "            for p4 in P4:\n",
    "                table.append([p1, p2, p3, p4])\n",
    "                \n",
    "import pandas as pd\n",
    "df = pd.DataFrame(table, columns=['P1', 'P2', 'P3', 'P4'])\n",
    "df"
   ]
  }
 ],
 "metadata": {
  "kernelspec": {
   "display_name": "Python 2",
   "language": "python",
   "name": "python2"
  },
  "language_info": {
   "codemirror_mode": {
    "name": "ipython",
    "version": 2
   },
   "file_extension": ".py",
   "mimetype": "text/x-python",
   "name": "python",
   "nbconvert_exporter": "python",
   "pygments_lexer": "ipython2",
   "version": "2.7.6"
  }
 },
 "nbformat": 4,
 "nbformat_minor": 0
}
